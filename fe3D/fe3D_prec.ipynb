{
 "cells": [
  {
   "cell_type": "code",
   "execution_count": 1,
   "metadata": {
    "collapsed": false
   },
   "outputs": [],
   "source": [
    "%matplotlib inline\n",
    "from numpy import *\n",
    "from pylab import *\n",
    "from numpy.polynomial.polynomial import *\n",
    "from numpy.polynomial.chebyshev import chebgauss\n"
   ]
  },
  {
   "cell_type": "code",
   "execution_count": 2,
   "metadata": {
    "collapsed": false
   },
   "outputs": [],
   "source": [
    "\n",
    "\n",
    "#INTRODUCIAMO chebishev per produrre lo spazio duale\n",
    "\n",
    "def chebyshev_nodes(num_nodes):\n",
    "    #cheb = [0.5*cos((2*(i+1)-1)*pi/(2*x)) + 0.5 for i in range(num_nodes)]\n",
    "    #cheb = array(cheb)\n",
    "    cheb = 0.5 * chebgauss(num_nodes)[0] + 0.5\n",
    "    return sort(cheb)\n",
    "\n",
    "def lagrange_basis(nodes, i):\n",
    "    num = arange(len(nodes))\n",
    "    d = product([ (nodes[i]-nodes[j]) for j in num if j != i], axis=0)\n",
    "    def func(x):\n",
    "        L = product([ (x - nodes[j]) for j in num if j != i], axis=0) / d\n",
    "        return L\n",
    "    return func\n",
    "\n",
    "def lagrange_basis_derivatives(nodes, i):\n",
    "    num = arange(len(nodes))\n",
    "    d = product([ (nodes[i]-nodes[j]) for j in num if j != i], axis=0)\n",
    "    def func(x):\n",
    "        L_deriv = sum( [ product( [ (x - nodes[j]) for j in num if (j != i and j != k) ], axis=0) for k in num if k != i ], axis=0 ) / d\n",
    "        return L_deriv\n",
    "    return func\n",
    "\n"
   ]
  },
  {
   "cell_type": "code",
   "execution_count": 3,
   "metadata": {
    "collapsed": false,
    "scrolled": true
   },
   "outputs": [],
   "source": [
    "from numpy.polynomial.legendre import leggauss\n",
    "\n",
    "dim = 3\n",
    "degree = 5 #grado dei polinomi delle basi \n",
    "\n",
    "num_q = 2 * degree + 1\n",
    "q,w = leggauss(num_q) # Gauss between -1 and 1\n",
    "q = (q+1)/2 # to go back to 0,1\n",
    "w = w/2"
   ]
  },
  {
   "cell_type": "code",
   "execution_count": 4,
   "metadata": {
    "collapsed": false
   },
   "outputs": [],
   "source": [
    "cheb = chebyshev_nodes(degree+1) #Lista nodi chebichev\n",
    "\n",
    "n = degree + 1 # Dim poly space\n",
    "\n",
    "\n",
    "lag_bas=[]\n",
    "lag_bas_deriv=[]\n",
    "V = []\n",
    "V_prime=[]\n",
    "\n",
    "#lagrangian base per i punti chebichev\n",
    "for i in range(len(cheb)):\n",
    "    lag_bas.append(lagrange_basis(cheb,i))\n",
    "    lag_bas_deriv.append(lagrange_basis_derivatives(cheb,i))\n",
    "\n",
    "\n",
    "Vq = zeros((n, len(q)))\n",
    "Vpq = zeros((n, len(q)))\n",
    "\n",
    "    #Le righe di Vq sono le funzioni di base calcolate sui punti di quadratura\n",
    "for i in range(n):\n",
    "    Vq[i] = lag_bas[i](q)\n",
    "    Vpq[i] = lag_bas_deriv[i](q)\n",
    "\n",
    "VVV    = einsum('ij,kl,nm -> inkljm', Vq, Vq, Vq, optimize=True)\n",
    "VVVp   = einsum('ij,kl,nm -> inkljm', Vq, Vq, Vpq, optimize=True)\n",
    "VVpV   = einsum('ij,kl,nm -> inkljm', Vq, Vpq, Vq, optimize=True)\n",
    "VpVV   = einsum('ij,kl,nm -> inkljm', Vpq, Vq, Vq, optimize=True)\n",
    "    #VpVpVp = einsum('ij,kl,nm -> inkljm', Vpq, Vpq, Vpq, optimize=True)\n",
    "\n",
    "VVV  = reshape(VVV,  (prod(VVV.shape[:dim]),  prod(VVV.shape[dim:])))\n",
    "VVVp = reshape(VVVp, (prod(VVVp.shape[:dim]), prod(VVVp.shape[dim:])))\n",
    "VVpV = reshape(VVpV, (prod(VVpV.shape[:dim]), prod(VVpV.shape[dim:])))\n",
    "VpVV = reshape(VpVV, (prod(VpVV.shape[:dim]), prod(VpVV.shape[dim:])))\n",
    "\n",
    "W = einsum('i,j,k -> ijk', w, w, w, optimize=True)\n",
    "W = reshape(W, (prod(W.shape[:dim])))\n",
    "\n",
    "\n",
    "latticeq_points = array([[[[qx,qy,qz] for qz in q] for qy in q ] for qx in q])\n",
    "latticeq_points = latticeq_points.reshape(len(q)*len(q)*len(q),dim)\n",
    "\n",
    "lpoint_x = array([latticeq_points[i,0] for i in range(len(latticeq_points))])\n",
    "lpoint_y = array([latticeq_points[i,1] for i in range(len(latticeq_points))])\n",
    "lpoint_z = array([latticeq_points[i,2] for i in range(len(latticeq_points))])\n"
   ]
  },
  {
   "cell_type": "code",
   "execution_count": 5,
   "metadata": {
    "collapsed": false
   },
   "outputs": [
    {
     "name": "stdout",
     "output_type": "stream",
     "text": [
      "[[[ 0.99556177  0.89344427  0.39417918 -0.39417918 -0.89344427 -0.99556177]\n",
      "  [ 0.89344427  0.80180124  0.35374715 -0.35374715 -0.80180124 -0.89344427]\n",
      "  [ 0.39417918  0.35374715  0.1560699  -0.1560699  -0.35374715 -0.39417918]\n",
      "  [-0.39417918 -0.35374715 -0.1560699   0.1560699   0.35374715  0.39417918]\n",
      "  [-0.89344427 -0.80180124 -0.35374715  0.35374715  0.80180124  0.89344427]\n",
      "  [-0.99556177 -0.89344427 -0.39417918  0.39417918  0.89344427  0.99556177]]\n",
      "\n",
      " [[ 0.89344427  0.80180124  0.35374715 -0.35374715 -0.80180124 -0.89344427]\n",
      "  [ 0.80180124  0.7195583   0.31746233 -0.31746233 -0.7195583  -0.80180124]\n",
      "  [ 0.35374715  0.31746233  0.14006139 -0.14006139 -0.31746233 -0.35374715]\n",
      "  [-0.35374715 -0.31746233 -0.14006139  0.14006139  0.31746233  0.35374715]\n",
      "  [-0.80180124 -0.7195583  -0.31746233  0.31746233  0.7195583   0.80180124]\n",
      "  [-0.89344427 -0.80180124 -0.35374715  0.35374715  0.80180124  0.89344427]]\n",
      "\n",
      " [[ 0.39417918  0.35374715  0.1560699  -0.1560699  -0.35374715 -0.39417918]\n",
      "  [ 0.35374715  0.31746233  0.14006139 -0.14006139 -0.31746233 -0.35374715]\n",
      "  [ 0.1560699   0.14006139  0.06179376 -0.06179376 -0.14006139 -0.1560699 ]\n",
      "  [-0.1560699  -0.14006139 -0.06179376  0.06179376  0.14006139  0.1560699 ]\n",
      "  [-0.35374715 -0.31746233 -0.14006139  0.14006139  0.31746233  0.35374715]\n",
      "  [-0.39417918 -0.35374715 -0.1560699   0.1560699   0.35374715  0.39417918]]\n",
      "\n",
      " [[-0.39417918 -0.35374715 -0.1560699   0.1560699   0.35374715  0.39417918]\n",
      "  [-0.35374715 -0.31746233 -0.14006139  0.14006139  0.31746233  0.35374715]\n",
      "  [-0.1560699  -0.14006139 -0.06179376  0.06179376  0.14006139  0.1560699 ]\n",
      "  [ 0.1560699   0.14006139  0.06179376 -0.06179376 -0.14006139 -0.1560699 ]\n",
      "  [ 0.35374715  0.31746233  0.14006139 -0.14006139 -0.31746233 -0.35374715]\n",
      "  [ 0.39417918  0.35374715  0.1560699  -0.1560699  -0.35374715 -0.39417918]]\n",
      "\n",
      " [[-0.89344427 -0.80180124 -0.35374715  0.35374715  0.80180124  0.89344427]\n",
      "  [-0.80180124 -0.7195583  -0.31746233  0.31746233  0.7195583   0.80180124]\n",
      "  [-0.35374715 -0.31746233 -0.14006139  0.14006139  0.31746233  0.35374715]\n",
      "  [ 0.35374715  0.31746233  0.14006139 -0.14006139 -0.31746233 -0.35374715]\n",
      "  [ 0.80180124  0.7195583   0.31746233 -0.31746233 -0.7195583  -0.80180124]\n",
      "  [ 0.89344427  0.80180124  0.35374715 -0.35374715 -0.80180124 -0.89344427]]\n",
      "\n",
      " [[-0.99556177 -0.89344427 -0.39417918  0.39417918  0.89344427  0.99556177]\n",
      "  [-0.89344427 -0.80180124 -0.35374715  0.35374715  0.80180124  0.89344427]\n",
      "  [-0.39417918 -0.35374715 -0.1560699   0.1560699   0.35374715  0.39417918]\n",
      "  [ 0.39417918  0.35374715  0.1560699  -0.1560699  -0.35374715 -0.39417918]\n",
      "  [ 0.89344427  0.80180124  0.35374715 -0.35374715 -0.80180124 -0.89344427]\n",
      "  [ 0.99556177  0.89344427  0.39417918 -0.39417918 -0.89344427 -0.99556177]]]\n"
     ]
    }
   ],
   "source": [
    "import scipy.sparse.linalg\n",
    "\n",
    "# -------------------------------------------------\n",
    "\n",
    "A = einsum('jq, iq, q -> ij', VVVp, VVVp, W, optimize=True)\n",
    "A += einsum('jq, iq, q -> ij', VVpV, VVpV, W, optimize=True)\n",
    "A += einsum('jq, iq, q -> ij', VpVV, VpVV, W, optimize=True)\n",
    "\n",
    "M = einsum('jq, iq, q -> ij', VVV, VVV, W, optimize=True)\n",
    "\n",
    "\n",
    "    # -------------------------------------------------\n",
    "    \n",
    "my_f = lambda x,y,z: (3*(pi**2) + 1)*cos(pi*y)*cos(pi*x)*cos(pi*z)\n",
    "\n",
    "RHS = einsum('iq, q, q -> i', VVV, W, my_f(lpoint_x,lpoint_y,lpoint_z), optimize=True)\n",
    "\n",
    "    # -------------------------------------------------\n",
    "\n",
    "\n",
    "P = diag( diag(A + M) ) # Preconditioner\n",
    "\n",
    "invP = linalg.inv(P)\n",
    "\n",
    "u_fe = scipy.sparse.linalg.cg( A + M, RHS, M = invP)\n",
    "\n",
    "u_fe = array(u_fe[0])\n",
    "\n",
    "Vcheb = zeros((n, len(cheb)))\n",
    "\n",
    "for j in range(degree + 1):\n",
    "    Vcheb[j] = lag_bas[j](cheb)\n",
    "\n",
    "C = einsum('is, jk, nm -> skmijn', Vcheb, Vcheb, Vcheb, optimize=True)\n",
    "\n",
    "#print C.shape\n",
    "#print u_fe.reshape((n, n, n)).shape\n",
    "\n",
    "sol = einsum('skmijn, ijn', C, u_fe.reshape((n, n, n)), optimize=True)\n",
    "\n"
   ]
  },
  {
   "cell_type": "code",
   "execution_count": 6,
   "metadata": {
    "collapsed": false
   },
   "outputs": [
    {
     "data": {
      "image/png": "[encoded data removed]",
      "text/plain": [
       "<matplotlib.figure.Figure at 0x10aa4ef90>"
      ]
     },
     "metadata": {},
     "output_type": "display_data"
    }
   ],
   "source": [
    "u_exact = lambda x,y,z: cos(pi*x)*cos(pi*y)*cos(pi*z)\n",
    "\n",
    "X, Y = meshgrid(cheb,cheb)\n",
    "\n",
    "from mpl_toolkits.mplot3d import Axes3D\n",
    "fig = plt.figure()\n",
    "ax = fig.add_subplot(111, projection = '3d')\n",
    "ax.plot_surface(X, Y, sol[:,:,0], cmap = cm.jet)\n",
    "plt.show()"
   ]
  },
  {
   "cell_type": "code",
   "execution_count": 135,
   "metadata": {
    "collapsed": true
   },
   "outputs": [],
   "source": [
    "# mod"
   ]
  },
  {
   "cell_type": "code",
   "execution_count": null,
   "metadata": {
    "collapsed": true
   },
   "outputs": [],
   "source": []
  }
 ],
 "metadata": {
  "anaconda-cloud": {},
  "kernelspec": {
   "display_name": "Python [conda root]",
   "language": "python",
   "name": "conda-root-py"
  },
  "language_info": {
   "codemirror_mode": {
    "name": "ipython",
    "version": 2
   },
   "file_extension": ".py",
   "mimetype": "text/x-python",
   "name": "python",
   "nbconvert_exporter": "python",
   "pygments_lexer": "ipython2",
   "version": "2.7.12"
  }
 },
 "nbformat": 4,
 "nbformat_minor": 1
}
